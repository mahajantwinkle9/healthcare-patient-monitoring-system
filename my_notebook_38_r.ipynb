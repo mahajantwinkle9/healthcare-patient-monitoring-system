{
  "nbformat": 4,
  "nbformat_minor": 0,
  "metadata": {
    "colab": {
      "name": "my_notebook_38.r",
      "provenance": [],
      "authorship_tag": "ABX9TyOwYHNkpDOT3ekmP62O7wpe",
      "include_colab_link": true
    },
    "kernelspec": {
      "name": "python3",
      "display_name": "Python 3"
    },
    "language_info": {
      "name": "python"
    }
  },
  "cells": [
    {
      "cell_type": "markdown",
      "metadata": {
        "id": "view-in-github",
        "colab_type": "text"
      },
      "source": [
        "<a href=\"https://colab.research.google.com/github/mahajantwinkle9/healthcare-patient-monitoring-system/blob/main/my_notebook_38_r.ipynb\" target=\"_parent\"><img src=\"https://colab.research.google.com/assets/colab-badge.svg\" alt=\"Open In Colab\"/></a>"
      ]
    },
    {
      "cell_type": "code",
      "metadata": {
        "colab": {
          "base_uri": "https://localhost:8080/"
        },
        "id": "f1TxZZ50IzwS",
        "outputId": "aa4fd9e7-0484-4f18-a5f3-b176e280350f"
      },
      "source": [
        " seconds_in_a_day=24*60*70\n",
        "seconds_in_a_day"
      ],
      "execution_count": 2,
      "outputs": [
        {
          "output_type": "execute_result",
          "data": {
            "text/plain": [
              "100800"
            ]
          },
          "metadata": {
            "tags": []
          },
          "execution_count": 2
        }
      ]
    },
    {
      "cell_type": "code",
      "metadata": {
        "colab": {
          "base_uri": "https://localhost:8080/",
          "height": 281
        },
        "id": "2H4QzizwOdTK",
        "outputId": "1c285781-8d9a-494d-ae3d-347422d9ba2c"
      },
      "source": [
        "import numpy as np\n",
        "from matplotlib import pyplot as plt \n",
        "y=200+np.random.random(100)\n",
        "x=[x for x in range(len(ys))]\n",
        "plt.plot(x,y,'-')\n",
        "plt.fill_between(x,ys,195,where=(ys>195),facecolor='g',alpha=0.6)\n",
        "plt.title(\"sample visualization\")\n",
        "plt.show()"
      ],
      "execution_count": 5,
      "outputs": [
        {
          "output_type": "display_data",
          "data": {
            "image/png": "[encoded data removed]",
            "text/plain": [
              "<Figure size 432x288 with 1 Axes>"
            ]
          },
          "metadata": {
            "tags": [],
            "needs_background": "light"
          }
        }
      ]
    },
    {
      "cell_type": "code",
      "metadata": {
        "colab": {
          "base_uri": "https://localhost:8080/"
        },
        "id": "9Wfksn1RREHP",
        "outputId": "f999c2b2-4fa1-494b-f200-03c8bc29f30e"
      },
      "source": [
        "import math\n",
        "entropy=\\\n",
        "-(3488/5644)*math.log(3488/5644,2)\\\n",
        "-(2156/5644)*math.log(2156/5644,2)\n",
        "print(entropy)"
      ],
      "execution_count": 9,
      "outputs": [
        {
          "output_type": "stream",
          "text": [
            "0.9594413373534086\n"
          ],
          "name": "stdout"
        }
      ]
    },
    {
      "cell_type": "code",
      "metadata": {
        "colab": {
          "base_uri": "https://localhost:8080/"
        },
        "id": "RSmhUkCQXiMJ",
        "outputId": "4fb2f034-30b9-4d10-b6c5-898b73834c94"
      },
      "source": [
        "import time\n",
        "print(\"sleeping\")\n",
        "time.sleep(30)\n",
        "print(\"Done Sleeping\")"
      ],
      "execution_count": 20,
      "outputs": [
        {
          "output_type": "stream",
          "text": [
            "sleeping\n",
            "Done Sleeping\n"
          ],
          "name": "stdout"
        }
      ]
    },
    {
      "cell_type": "code",
      "metadata": {
        "colab": {
          "base_uri": "https://localhost:8080/",
          "height": 17
        },
        "id": "LrgAMolWdHpx",
        "outputId": "2c0a5e2a-4ef7-4285-cc39-3ad10d5351fd"
      },
      "source": [
        "%%html\n",
        "<sv xmlns=\"http://www.w3.org/2000/svg\"viewbox=\"0 0 0  450 400\" width=\"200\"height=\"200\">\n",
        "<rect x=\"80\" y=\"60\" width =\"250\"height=\"250\"rx=\"20\"style=\"fill:red;stroke:black;fill-opacity:0.7\"/>\n",
        "<rect x=\"180\"y=\"110\" width=\"250\" height =\"250\" rx=\"40\"style=\"fill:blue;stroke:black;fill-opacity:0.5;\"/>\n",
        "</svg>"
      ],
      "execution_count": 23,
      "outputs": [
        {
          "output_type": "display_data",
          "data": {
            "text/html": [
              "<sv xmlns=\"http://www.w3.org/2000/svg\"viewbox=\"0 0 0  450 400\" width=\"200\"height=\"200\">\n",
              "<rect x=\"80\" y=\"60\" width =\"250\"height=\"250\"rx=\"20\"style=\"fill:red;stroke:black;fill-opacity:0.7\"/>\n",
              "<rect x=\"180\"y=\"110\" width=\"250\" height =\"250\" rx=\"40\"style=\"fill:blue;stroke:black;fill-opacity:0.5;\"/>\n",
              "</svg>"
            ],
            "text/plain": [
              "<IPython.core.display.HTML object>"
            ]
          },
          "metadata": {
            "tags": []
          }
        }
      ]
    },
    {
      "cell_type": "code",
      "metadata": {
        "colab": {
          "base_uri": "https://localhost:8080/",
          "height": 129
        },
        "id": "qY15W2dke5yf",
        "outputId": "f2c7fa25-b4f9-4a23-8396-b98f4f766e82"
      },
      "source": [
        "studentBio <-list(studentname=\"twinkle\",studentage=21,studentcontact=\"mumbai\")\n",
        "class(studentBio)  =\"studentInfo\"\n",
        "studentBio"
      ],
      "execution_count": 26,
      "outputs": [
        {
          "output_type": "error",
          "ename": "SyntaxError",
          "evalue": "ignored",
          "traceback": [
            "\u001b[0;36m  File \u001b[0;32m\"<ipython-input-26-491702987331>\"\u001b[0;36m, line \u001b[0;32m2\u001b[0m\n\u001b[0;31m    class(studentBio)  =\"studentInfo\"\u001b[0m\n\u001b[0m         ^\u001b[0m\n\u001b[0;31mSyntaxError\u001b[0m\u001b[0;31m:\u001b[0m invalid syntax\n"
          ]
        }
      ]
    }
  ]
}